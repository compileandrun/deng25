{
 "cells": [
  {
   "cell_type": "code",
   "execution_count": 1,
   "id": "898b93c9-55a0-44ec-ad45-4fc1bff66d6e",
   "metadata": {},
   "outputs": [
    {
     "name": "stdout",
     "output_type": "stream",
     "text": [
      "Intel MKL WARNING: Support of Intel(R) Streaming SIMD Extensions 4.2 (Intel(R) SSE4.2) enabled only processors has been deprecated. Intel oneAPI Math Kernel Library 2025.0 will require Intel(R) Advanced Vector Extensions (Intel(R) AVX) instructions.\n",
      "Intel MKL WARNING: Support of Intel(R) Streaming SIMD Extensions 4.2 (Intel(R) SSE4.2) enabled only processors has been deprecated. Intel oneAPI Math Kernel Library 2025.0 will require Intel(R) Advanced Vector Extensions (Intel(R) AVX) instructions.\n",
      "Welcome to\n",
      "      ____              __\n",
      "     / __/__  ___ _____/ /__\n",
      "    _\\ \\/ _ \\/ _ `/ __/  '_/\n",
      "   /___/ .__/\\_,_/_/ /_/\\_\\   version 3.5.4\n",
      "      /_/\n",
      "                        \n",
      "Using Scala version 2.12.18, OpenJDK 64-Bit Server VM, 11.0.26\n",
      "Branch HEAD\n",
      "Compiled by user yangjie01 on 2024-12-17T04:51:46Z\n",
      "Revision a6f220d951742f4074b37772485ee0ec7a774e7d\n",
      "Url https://github.com/apache/spark\n",
      "Type --help for more information.\n",
      "/Users/koray/opt/anaconda3/lib/python3.9/site-packages/pyspark/__init__.py\n"
     ]
    }
   ],
   "source": [
    "import pyspark\n",
    "from pyspark.sql import types\n",
    "from pyspark.sql import SparkSession\n",
    "import findspark\n",
    "import pandas as pd\n",
    "import os\n",
    "\n",
    "#findspark.init()\n",
    "\n",
    "!spark-shell --version\n",
    "\n",
    "print(pyspark.__file__)"
   ]
  },
  {
   "cell_type": "code",
   "execution_count": 2,
   "id": "f834d979-be91-42c8-a218-a5a2fbcff902",
   "metadata": {},
   "outputs": [
    {
     "name": "stderr",
     "output_type": "stream",
     "text": [
      "Setting default log level to \"WARN\".\n",
      "To adjust logging level use sc.setLogLevel(newLevel). For SparkR, use setLogLevel(newLevel).\n",
      "25/03/07 14:38:31 WARN NativeCodeLoader: Unable to load native-hadoop library for your platform... using builtin-java classes where applicable\n"
     ]
    },
    {
     "name": "stdout",
     "output_type": "stream",
     "text": [
      "The PySpark 3.5.4 version is running...\n"
     ]
    }
   ],
   "source": [
    "os.chdir('/Users/koray/Documents/GitHub/deng25/05_spark')\n",
    "os.getcwd()\n",
    "\n",
    "# Create SparkSession\n",
    "#local master - this master method is for cardinating clusters\n",
    "#number of clusters to be used\n",
    "spark = SparkSession.builder.master(\"local[3]\") \\\n",
    "                    .appName('test-spark') \\\n",
    "                    .getOrCreate()\n",
    "\n",
    "print(f'The PySpark {spark.version} version is running...')"
   ]
  },
  {
   "cell_type": "code",
   "execution_count": null,
   "id": "9a8dd6b0-ae28-4bcc-bd6a-b75107576a79",
   "metadata": {},
   "outputs": [],
   "source": [
    "!wget https://d37ci6vzurychx.cloudfront.net/trip-data/yellow_tripdata_2024-10.parquet"
   ]
  },
  {
   "cell_type": "code",
   "execution_count": 10,
   "id": "4a25db4b-438b-49de-bb62-e517d5dd24cd",
   "metadata": {},
   "outputs": [
    {
     "name": "stdout",
     "output_type": "stream",
     "text": [
      "+--------+--------------------+---------------------+---------------+-------------+----------+------------------+------------+------------+------------+-----------+-----+-------+----------+------------+---------------------+------------+--------------------+-----------+\n",
      "|VendorID|tpep_pickup_datetime|tpep_dropoff_datetime|passenger_count|trip_distance|RatecodeID|store_and_fwd_flag|PULocationID|DOLocationID|payment_type|fare_amount|extra|mta_tax|tip_amount|tolls_amount|improvement_surcharge|total_amount|congestion_surcharge|Airport_fee|\n",
      "+--------+--------------------+---------------------+---------------+-------------+----------+------------------+------------+------------+------------+-----------+-----+-------+----------+------------+---------------------+------------+--------------------+-----------+\n",
      "|       2| 2024-10-01 00:30:44|  2024-10-01 00:48:26|              1|          3.0|         1|                 N|         162|         246|           1|       18.4|  1.0|    0.5|       1.5|         0.0|                  1.0|        24.9|                 2.5|        0.0|\n",
      "|       1| 2024-10-01 00:12:20|  2024-10-01 00:25:25|              1|          2.2|         1|                 N|          48|         236|           1|       14.2|  3.5|    0.5|       3.8|         0.0|                  1.0|        23.0|                 2.5|        0.0|\n",
      "|       1| 2024-10-01 00:04:46|  2024-10-01 00:13:52|              1|          2.7|         1|                 N|         142|          24|           1|       13.5|  3.5|    0.5|       3.7|         0.0|                  1.0|        22.2|                 2.5|        0.0|\n",
      "|       1| 2024-10-01 00:12:10|  2024-10-01 00:23:01|              1|          3.1|         1|                 N|         233|          75|           1|       14.2|  3.5|    0.5|       2.0|         0.0|                  1.0|        21.2|                 2.5|        0.0|\n",
      "|       1| 2024-10-01 00:30:22|  2024-10-01 00:30:39|              1|          0.0|         1|                 N|         262|         262|           3|        3.0|  3.5|    0.5|       0.0|         0.0|                  1.0|         8.0|                 2.5|        0.0|\n",
      "|       2| 2024-10-01 00:31:20|  2024-10-01 00:36:00|              2|         0.97|         1|                 N|         137|         137|           1|        7.2|  1.0|    0.5|      2.44|         0.0|                  1.0|       14.64|                 2.5|        0.0|\n",
      "|       1| 2024-10-01 00:42:57|  2024-10-01 00:49:01|              1|          1.3|         1|                 N|         142|          48|           1|        7.9|  3.5|    0.5|      2.55|         0.0|                  1.0|       15.45|                 2.5|        0.0|\n",
      "|       1| 2024-10-01 00:59:55|  2024-10-01 01:02:24|              1|          0.5|         1|                 N|         230|         161|           1|        5.1|  3.5|    0.5|       2.0|         0.0|                  1.0|        12.1|                 2.5|        0.0|\n",
      "|       1| 2024-10-01 00:00:47|  2024-10-01 00:04:22|              0|          1.1|         1|                 N|         142|         237|           1|        7.2|  3.5|    0.5|       3.0|         0.0|                  1.0|        15.2|                 2.5|        0.0|\n",
      "|       1| 2024-10-01 00:17:36|  2024-10-01 00:26:22|              1|          2.2|         1|                 N|         162|         145|           1|       11.4|  3.5|    0.5|       3.3|         0.0|                  1.0|        19.7|                 2.5|        0.0|\n",
      "|       1| 2024-10-01 00:49:00|  2024-10-01 00:52:20|              1|          0.6|         1|                 N|         229|         162|           1|        5.1|  3.5|    0.5|       2.0|         0.0|                  1.0|        12.1|                 2.5|        0.0|\n",
      "|       2| 2024-10-01 00:07:26|  2024-10-01 00:13:20|              1|          0.9|         1|                 N|         162|         162|           1|        7.9|  1.0|    0.5|      3.87|         0.0|                  1.0|       16.77|                 2.5|        0.0|\n",
      "|       2| 2024-10-01 00:17:11|  2024-10-01 00:25:00|              1|         1.33|         1|                 N|         162|         230|           1|        9.3|  1.0|    0.5|       2.0|         0.0|                  1.0|        16.3|                 2.5|        0.0|\n",
      "|       2| 2024-10-01 00:00:34|  2024-10-01 00:05:13|              1|         1.79|         1|                 N|         211|         234|           1|        9.3|  1.0|    0.5|      2.86|         0.0|                  1.0|       17.16|                 2.5|        0.0|\n",
      "|       2| 2024-09-30 23:58:40|  2024-10-01 00:20:26|              1|         5.16|         1|                 N|         142|           7|           1|       24.7|  1.0|    0.5|       0.0|         0.0|                  1.0|        29.7|                 2.5|        0.0|\n",
      "|       1| 2024-10-01 00:55:29|  2024-10-01 01:42:35|              1|         11.3|        99|                 N|         161|         197|           1|       39.5|  0.0|    0.5|       0.0|        6.94|                  1.0|       47.94|                 0.0|        0.0|\n",
      "|       1| 2024-10-01 00:08:59|  2024-10-01 00:40:58|              1|         20.6|         1|                 N|         132|         243|           2|       76.5| 2.75|    0.5|       0.0|        6.94|                  1.0|       87.69|                 0.0|       1.75|\n",
      "|       2| 2024-10-01 00:18:38|  2024-10-01 00:36:47|              2|         7.42|         1|                 N|         239|         247|           4|      -33.1| -1.0|   -0.5|       0.0|         0.0|                 -1.0|       -38.1|                -2.5|        0.0|\n",
      "|       2| 2024-10-01 00:18:38|  2024-10-01 00:36:47|              2|         7.42|         1|                 N|         239|         247|           4|       33.1|  1.0|    0.5|       0.0|         0.0|                  1.0|        38.1|                 2.5|        0.0|\n",
      "|       2| 2024-10-01 00:39:33|  2024-10-01 00:53:59|              1|         4.49|         1|                 N|         247|          60|           2|       21.9|  1.0|    0.5|       0.0|         0.0|                  1.0|        24.4|                 0.0|        0.0|\n",
      "+--------+--------------------+---------------------+---------------+-------------+----------+------------------+------------+------------+------------+-----------+-----+-------+----------+------------+---------------------+------------+--------------------+-----------+\n",
      "only showing top 20 rows\n",
      "\n"
     ]
    }
   ],
   "source": [
    "df = spark.read \\\n",
    "    .option(\"header\", \"true\") \\\n",
    "    .parquet('yellow_tripdata_2024-10.parquet')\n",
    "\n",
    "df.show()"
   ]
  },
  {
   "cell_type": "code",
   "execution_count": 9,
   "id": "3c9ffa69-a30e-46ef-908e-abf9654587c3",
   "metadata": {},
   "outputs": [
    {
     "ename": "NameError",
     "evalue": "name 'df' is not defined",
     "output_type": "error",
     "traceback": [
      "\u001b[0;31m---------------------------------------------------------------------------\u001b[0m",
      "\u001b[0;31mNameError\u001b[0m                                 Traceback (most recent call last)",
      "Cell \u001b[0;32mIn[9], line 1\u001b[0m\n\u001b[0;32m----> 1\u001b[0m \u001b[43mdf\u001b[49m\u001b[38;5;241m.\u001b[39mprintSchema()\n",
      "\u001b[0;31mNameError\u001b[0m: name 'df' is not defined"
     ]
    }
   ],
   "source": [
    "df.printSchema() #In a parquet file, schema is already saved with the file. No need to define a schema like in a csv."
   ]
  },
  {
   "cell_type": "code",
   "execution_count": 8,
   "id": "55c70df1-290a-4b2d-883e-2656e7201fd8",
   "metadata": {},
   "outputs": [
    {
     "ename": "NameError",
     "evalue": "name 'df' is not defined",
     "output_type": "error",
     "traceback": [
      "\u001b[0;31m---------------------------------------------------------------------------\u001b[0m",
      "\u001b[0;31mNameError\u001b[0m                                 Traceback (most recent call last)",
      "Cell \u001b[0;32mIn[8], line 2\u001b[0m\n\u001b[1;32m      1\u001b[0m output_path \u001b[38;5;241m=\u001b[39m \u001b[38;5;124m'\u001b[39m\u001b[38;5;124mdata/\u001b[39m\u001b[38;5;124m'\u001b[39m\n\u001b[0;32m----> 2\u001b[0m df \u001b[38;5;241m=\u001b[39m \u001b[43mdf\u001b[49m\u001b[38;5;241m.\u001b[39mrepartition(\u001b[38;5;241m4\u001b[39m)\n",
      "\u001b[0;31mNameError\u001b[0m: name 'df' is not defined"
     ]
    }
   ],
   "source": [
    "output_path = 'data/'\n",
    "df = df.repartition(4)"
   ]
  },
  {
   "cell_type": "code",
   "execution_count": 6,
   "id": "31a51b59-a725-4827-b7fe-99f6757cebb0",
   "metadata": {},
   "outputs": [
    {
     "name": "stderr",
     "output_type": "stream",
     "text": [
      "                                                                                \r"
     ]
    }
   ],
   "source": [
    "df \\\n",
    "    .write.parquet('output')"
   ]
  },
  {
   "cell_type": "code",
   "execution_count": 5,
   "id": "66a9e9e8-2cb5-4d53-ad11-f9d06266d520",
   "metadata": {},
   "outputs": [
    {
     "name": "stderr",
     "output_type": "stream",
     "text": [
      "                                                                                \r"
     ]
    }
   ],
   "source": [
    "df_p = spark.read.option('header','true').parquet('output/part-00000-e484fbd8-4557-43f7-a56b-873f809c40a7-c000.snappy.parquet')"
   ]
  },
  {
   "cell_type": "code",
   "execution_count": 11,
   "id": "a2fd64d4-4e45-4c1d-aeae-17a18cf2edf1",
   "metadata": {},
   "outputs": [
    {
     "name": "stderr",
     "output_type": "stream",
     "text": [
      "/Users/koray/opt/anaconda3/lib/python3.9/site-packages/pyspark/sql/dataframe.py:329: FutureWarning: Deprecated in 2.0, use createOrReplaceTempView instead.\n",
      "  warnings.warn(\"Deprecated in 2.0, use createOrReplaceTempView instead.\", FutureWarning)\n"
     ]
    }
   ],
   "source": [
    "df.registerTempTable('df_data')\n"
   ]
  },
  {
   "cell_type": "code",
   "execution_count": 12,
   "id": "4b83b5e8-5b6a-4175-a3df-8bc0e5ef2b14",
   "metadata": {},
   "outputs": [
    {
     "name": "stdout",
     "output_type": "stream",
     "text": [
      "+--------+\n",
      "|count(1)|\n",
      "+--------+\n",
      "|  128893|\n",
      "+--------+\n",
      "\n"
     ]
    }
   ],
   "source": [
    "spark.sql(\"\"\"\n",
    "SELECT count(*) FROM df_data where date(tpep_pickup_datetime) = '2024-10-15' \n",
    "\"\"\").show()"
   ]
  },
  {
   "cell_type": "code",
   "execution_count": 13,
   "id": "c565d936-39cf-4c6b-9257-8fc751df8847",
   "metadata": {},
   "outputs": [
    {
     "name": "stderr",
     "output_type": "stream",
     "text": [
      "[Stage 6:=======================================>                   (2 + 1) / 3]\r"
     ]
    },
    {
     "name": "stdout",
     "output_type": "stream",
     "text": [
      "+---------------------------------------------------------------------+\n",
      "|max(timestampdiff(hour, tpep_pickup_datetime, tpep_dropoff_datetime))|\n",
      "+---------------------------------------------------------------------+\n",
      "|                                                                  162|\n",
      "+---------------------------------------------------------------------+\n",
      "\n"
     ]
    },
    {
     "name": "stderr",
     "output_type": "stream",
     "text": [
      "                                                                                \r"
     ]
    }
   ],
   "source": [
    "spark.sql(\"\"\"\n",
    "SELECT max(timestampdiff(hour,tpep_pickup_datetime,tpep_dropoff_datetime)) FROM df_data\n",
    "\"\"\").show()"
   ]
  },
  {
   "cell_type": "code",
   "execution_count": 17,
   "id": "9c9ea66a-9bc2-489d-92fc-1ff5d83ad5bd",
   "metadata": {},
   "outputs": [],
   "source": [
    "#http://localhost:4040"
   ]
  },
  {
   "cell_type": "code",
   "execution_count": 19,
   "id": "9ebc03c9-29b5-4420-bbfe-4d9e3b5953df",
   "metadata": {},
   "outputs": [
    {
     "name": "stdout",
     "output_type": "stream",
     "text": [
      "--2025-03-02 22:30:05--  https://d37ci6vzurychx.cloudfront.net/misc/taxi_zone_lookup.csv\n",
      "Resolving d37ci6vzurychx.cloudfront.net (d37ci6vzurychx.cloudfront.net)... 2600:9000:2759:e200:b:20a5:b140:21, 2600:9000:2759:2c00:b:20a5:b140:21, 2600:9000:2759:7c00:b:20a5:b140:21, ...\n",
      "Connecting to d37ci6vzurychx.cloudfront.net (d37ci6vzurychx.cloudfront.net)|2600:9000:2759:e200:b:20a5:b140:21|:443... connected.\n",
      "HTTP request sent, awaiting response... 200 OK\n",
      "Length: 12331 (12K) [text/csv]\n",
      "Saving to: 'taxi_zone_lookup.csv'\n",
      "\n",
      "taxi_zone_lookup.cs 100%[===================>]  12.04K  --.-KB/s    in 0s      \n",
      "\n",
      "2025-03-02 22:30:05 (1.64 GB/s) - 'taxi_zone_lookup.csv' saved [12331/12331]\n",
      "\n"
     ]
    }
   ],
   "source": [
    "!wget https://d37ci6vzurychx.cloudfront.net/misc/taxi_zone_lookup.csv"
   ]
  },
  {
   "cell_type": "code",
   "execution_count": 14,
   "id": "64d26ed9-bc3e-4ad2-bbc6-a6b9c4fa378f",
   "metadata": {},
   "outputs": [
    {
     "name": "stdout",
     "output_type": "stream",
     "text": [
      "+----------+-------------+--------------------+------------+\n",
      "|LocationID|      Borough|                Zone|service_zone|\n",
      "+----------+-------------+--------------------+------------+\n",
      "|         1|          EWR|      Newark Airport|         EWR|\n",
      "|         2|       Queens|         Jamaica Bay|   Boro Zone|\n",
      "|         3|        Bronx|Allerton/Pelham G...|   Boro Zone|\n",
      "|         4|    Manhattan|       Alphabet City| Yellow Zone|\n",
      "|         5|Staten Island|       Arden Heights|   Boro Zone|\n",
      "|         6|Staten Island|Arrochar/Fort Wad...|   Boro Zone|\n",
      "|         7|       Queens|             Astoria|   Boro Zone|\n",
      "|         8|       Queens|        Astoria Park|   Boro Zone|\n",
      "|         9|       Queens|          Auburndale|   Boro Zone|\n",
      "|        10|       Queens|        Baisley Park|   Boro Zone|\n",
      "|        11|     Brooklyn|          Bath Beach|   Boro Zone|\n",
      "|        12|    Manhattan|        Battery Park| Yellow Zone|\n",
      "|        13|    Manhattan|   Battery Park City| Yellow Zone|\n",
      "|        14|     Brooklyn|           Bay Ridge|   Boro Zone|\n",
      "|        15|       Queens|Bay Terrace/Fort ...|   Boro Zone|\n",
      "|        16|       Queens|             Bayside|   Boro Zone|\n",
      "|        17|     Brooklyn|             Bedford|   Boro Zone|\n",
      "|        18|        Bronx|        Bedford Park|   Boro Zone|\n",
      "|        19|       Queens|           Bellerose|   Boro Zone|\n",
      "|        20|        Bronx|             Belmont|   Boro Zone|\n",
      "+----------+-------------+--------------------+------------+\n",
      "only showing top 20 rows\n",
      "\n"
     ]
    }
   ],
   "source": [
    "df_zones = spark.read \\\n",
    "    .option(\"header\", \"true\") \\\n",
    "    .csv('taxi_zone_lookup.csv')\n",
    "\n",
    "df_zones.show()"
   ]
  },
  {
   "cell_type": "code",
   "execution_count": 15,
   "id": "27f4deda-af60-4a5d-aad5-c60969431bbe",
   "metadata": {},
   "outputs": [],
   "source": [
    "df_zones.registerTempTable('zones')\n"
   ]
  },
  {
   "cell_type": "code",
   "execution_count": 16,
   "id": "16df42d3-bcf2-4509-98a7-994e4d60cf8d",
   "metadata": {},
   "outputs": [
    {
     "name": "stdout",
     "output_type": "stream",
     "text": [
      "+---------------------------------------------+--------+\n",
      "|zone                                         |count(1)|\n",
      "+---------------------------------------------+--------+\n",
      "|Governor's Island/Ellis Island/Liberty Island|1       |\n",
      "|Rikers Island                                |2       |\n",
      "|Arden Heights                                |2       |\n",
      "|Green-Wood Cemetery                          |3       |\n",
      "|Jamaica Bay                                  |3       |\n",
      "|Charleston/Tottenville                       |4       |\n",
      "|Rossville/Woodrow                            |4       |\n",
      "|West Brighton                                |4       |\n",
      "|Eltingville/Annadale/Prince's Bay            |4       |\n",
      "|Port Richmond                                |4       |\n",
      "|Great Kills                                  |6       |\n",
      "|Crotona Park                                 |6       |\n",
      "|Heartland Village/Todt Hill                  |7       |\n",
      "|Mariners Harbor                              |7       |\n",
      "|Oakwood                                      |9       |\n",
      "|Saint George/New Brighton                    |9       |\n",
      "|New Dorp/Midland Beach                       |10      |\n",
      "|Broad Channel                                |10      |\n",
      "|Westerleigh                                  |12      |\n",
      "|Pelham Bay Park                              |12      |\n",
      "+---------------------------------------------+--------+\n",
      "only showing top 20 rows\n",
      "\n"
     ]
    }
   ],
   "source": [
    "spark.sql(\"\"\"\n",
    "SELECT z.zone,count(*) FROM df_data d\n",
    "left join zones z\n",
    "on d.PULocationID = z.LocationID\n",
    "group by 1\n",
    "order by 2 ASC\n",
    "\"\"\").show(truncate=False)"
   ]
  },
  {
   "cell_type": "code",
   "execution_count": null,
   "id": "594162ed-3f46-4746-8c8a-f02120aca544",
   "metadata": {},
   "outputs": [],
   "source": []
  }
 ],
 "metadata": {
  "kernelspec": {
   "display_name": "Python 3 (ipykernel)",
   "language": "python",
   "name": "python3"
  },
  "language_info": {
   "codemirror_mode": {
    "name": "ipython",
    "version": 3
   },
   "file_extension": ".py",
   "mimetype": "text/x-python",
   "name": "python",
   "nbconvert_exporter": "python",
   "pygments_lexer": "ipython3",
   "version": "3.9.21"
  }
 },
 "nbformat": 4,
 "nbformat_minor": 5
}
